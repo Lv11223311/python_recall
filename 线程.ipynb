{
 "cells": [
  {
   "cell_type": "markdown",
   "metadata": {},
   "source": [
    "## 线程\n",
    "\n",
    "多任务可以由多进程完成，也可以由一个进程内多线程完成。\n",
    "\n",
    "前面提到了进程是由若干线程组成的， 一个进程至少一个线程。\n",
    "\n",
    "由于线程是操作系统直接支持的执行单元，因此，高级语言通常都内置多线程的支持， Python的线程是真正的Posix Thread,而不是模拟出来的线程。\n",
    "\n",
    "Python的标准库提供了两个模块：_thread 和 threading, _thread是低级模块，threading是高级模块， 对_thread进行了封装。绝大多数情况，我们只需要使用threading 这个高级模块。\n",
    "\n",
    "启动一个线程就是把一个函数传入并且创建Thread实例， 然后调用start()开始执行："
   ]
  },
  {
   "cell_type": "code",
   "execution_count": 1,
   "metadata": {},
   "outputs": [
    {
     "name": "stdout",
     "output_type": "stream",
     "text": [
      "tread MainThread is running...\n",
      "tread LoopThread is running...\n",
      "thread LoopThread >>> 1\n",
      "thread LoopThread >>> 2\n",
      "thread LoopThread >>> 3\n",
      "thread LoopThread >>> 4\n",
      "thread LoopThread >>> 5\n",
      "tread LoopThread ended.\n",
      "thread MainThread ended.\n"
     ]
    }
   ],
   "source": [
    "import time, threading\n",
    "\n",
    "# 新线程执行的代码：\n",
    "def loop():\n",
    "    print('tread %s is running...' % threading.current_thread().name)\n",
    "    n = 0\n",
    "    while n < 5:\n",
    "        n += 1\n",
    "        print('thread %s >>> %s' % (threading.current_thread().name, n))\n",
    "        time.sleep(1)\n",
    "    print('tread %s ended.' % threading.current_thread().name)\n",
    "    \n",
    "print('tread %s is running...' % threading.current_thread().name)\n",
    "t = threading.Thread(target=loop, name='LoopThread')\n",
    "t.start()\n",
    "t.join()\n",
    "print('thread %s ended.' % threading.current_thread().name)"
   ]
  },
  {
   "cell_type": "markdown",
   "metadata": {},
   "source": [
    "由于任何进程默认就会启动一个线程， 我们把该线程称为主线程， 主线程又可以启动新的线程， Python的threading模块有个`current_thread()`函数， 他永远返回当前线程的实例。 主线程实例的名字叫`MainThread`， 子线程的名字在创建时指定， 我们用`LoopTread`命名子线程， 名字仅仅在打印时用来显示， 完全没有其他意义， 如果不起名字。 Python就会自动给线程命名`Thread-1, Thread-2...`"
   ]
  },
  {
   "cell_type": "markdown",
   "metadata": {},
   "source": [
    "### Lock\n",
    "多线程和多进程最大的不同在于， 多进程中， 同一个变量， 各自有一份拷贝存在于每个进程中，互不影响， 而多线程中，所有变量都由所有线程共享， 所以，任何一个变量都可以被任何一个线程修改，因此，线程之间共享数据最大的危险在于多个线程同时修改一个变量。 把内容改乱。\n",
    "\n",
    "看一个多线程同时修改一个变量的例子："
   ]
  },
  {
   "cell_type": "code",
   "execution_count": 10,
   "metadata": {},
   "outputs": [
    {
     "name": "stdout",
     "output_type": "stream",
     "text": [
      "2\n"
     ]
    }
   ],
   "source": [
    "# 假设这是你的银行存款\n",
    "balance = 0  \n",
    "\n",
    "def change_it(n):\n",
    "    # 先存后取， 结果应该为0\n",
    "    global balance\n",
    "    balance = balance + n\n",
    "    balance -= n\n",
    "    \n",
    "def run_thread(n):\n",
    "    for i in range(1000000):\n",
    "        change_it(n)\n",
    "        \n",
    "t1 = threading.Thread(target=run_thread, args=(5, ))\n",
    "t2 = threading.Thread(target=run_thread, args=(8, ))\n",
    "\n",
    "t1.start()\n",
    "t2.start()\n",
    "t1.join()\n",
    "t2.join()\n",
    "print(balance) #我们的理想输出为0, 但因为混乱结果不一定为0"
   ]
  },
  {
   "cell_type": "code",
   "execution_count": 12,
   "metadata": {},
   "outputs": [],
   "source": [
    "# 如果我们要确保balance计算正确，就要给change_it()上一把锁，当某个线程开始执行change_it()时，我们说，\n",
    "# 该线程因为获得了锁，因此其他线程不能同时执行change_it()，只能等待，直到锁被释放后，获得该锁以后才能改。\n",
    "# 由于锁只有一个，无论多少线程，同一时刻最多只有一个线程持有该锁，所以，不会造成修改的冲突。创建一个锁就是通过threading.Lock()来实现：\n",
    "balance = 0\n",
    "lock = threading.Lock()\n",
    "\n",
    "def run_thread(n):\n",
    "    for i in range(1000000):\n",
    "        # 先要获取锁\n",
    "        lock.acquire()\n",
    "        try:\n",
    "            # 放心改\n",
    "            change_it(n)\n",
    "        finally:\n",
    "            # 改完一定要释放锁\n",
    "            lock.release()"
   ]
  },
  {
   "cell_type": "markdown",
   "metadata": {},
   "source": [
    "当多个线程同时执行lock.acquire()时，只有一个线程能成功地获取锁，然后继续执行代码，其他线程就继续等待直到获得锁为止。\n",
    "\n",
    "获得锁的线程用完后一定要释放锁，否则那些苦苦等待锁的线程将永远等待下去，成为死线程。所以我们用try...finally来确保锁一定会被释放。\n",
    "\n",
    "锁的好处就是确保了某段关键代码只能由一个线程从头到尾完整地执行，坏处当然也很多，首先是阻止了多线程并发执行，包含锁的某段代码实际上只能以单线程模式执行，效率就大大地下降了。其次，由于可以存在多个锁，不同的线程持有不同的锁，并试图获取对方持有的锁时，可能会造成死锁，导致多个线程全部挂起，既不能执行，也无法结束，只能靠操作系统强制终止。"
   ]
  },
  {
   "cell_type": "markdown",
   "metadata": {},
   "source": [
    "## 多核CPU\n",
    "我们可以监控到一个死循环线程会100%占用一个CPU。\n",
    "\n",
    "如果有两个死循环线程，在多核CPU中，可以监控到会占用200%的CPU，也就是占用两个CPU核心。\n",
    "\n",
    "要想把N核CPU的核心全部跑满，就必须启动N个死循环线程。\n",
    "\n",
    "试试用Python写个死循环："
   ]
  },
  {
   "cell_type": "code",
   "execution_count": 15,
   "metadata": {},
   "outputs": [],
   "source": [
    "import multiprocessing\n",
    "def loop():\n",
    "    x = 0\n",
    "    while True:\n",
    "        x = x^1\n",
    "    \n",
    "for i in range(multiprocessing.cpu_count()):\n",
    "    t = threading.Thread(target=loop)\n",
    "    t.start()"
   ]
  },
  {
   "cell_type": "markdown",
   "metadata": {},
   "source": [
    "启动与CPU核心数量相同的N个线程，在4核CPU上可以监控到CPU占用率仅有102%，也就是仅使用了一核。\n",
    "\n",
    "但是用C、C++或Java来改写相同的死循环，直接可以把全部核心跑满，4核就跑到400%，8核就跑到800%，为什么Python不行呢？\n",
    "\n",
    "因为Python的线程虽然是真正的线程，但解释器执行代码时，有一个GIL锁：Global Interpreter Lock，任何Python线程执行前，必须先获得GIL锁，然后，每执行100条字节码，解释器就自动释放GIL锁，让别的线程有机会执行。这个GIL全局锁实际上把所有线程的执行代码都给上了锁，所以，多线程在Python中只能交替执行，即使100个线程跑在100核CPU上，也只能用到1个核。\n",
    "\n",
    "GIL是Python解释器设计的历史遗留问题，通常我们用的解释器是官方实现的CPython，要真正利用多核，除非重写一个不带GIL的解释器。\n",
    "\n",
    "所以，在Python中，可以使用多线程，但不要指望能有效利用多核。如果一定要通过多线程利用多核，那只能通过C扩展来实现，不过这样就失去了Python简单易用的特点。\n",
    "\n",
    "不过，也不用过于担心，Python虽然不能利用多线程实现多核任务，但可以通过多进程实现多核任务。多个Python进程有各自独立的GIL锁，互不影响。"
   ]
  },
  {
   "cell_type": "markdown",
   "metadata": {},
   "source": [
    "## ThreadLocal\n",
    "\n",
    "在多线程环境下，每个线程都有自己的数据。一个线程使用自己的局部变量比使用全局变量好，因为局部变量只有线程自己能看见，不会影响其他线程，而全局变量的修改必须加锁。\n",
    "\n",
    "但是局部变量也有问题，就是在函数调用的时候，传递起来很麻烦："
   ]
  },
  {
   "cell_type": "code",
   "execution_count": 16,
   "metadata": {},
   "outputs": [],
   "source": [
    "def process_student(name):\n",
    "    std = Student(name)\n",
    "    # std是局部变量，但是每个函数都要用它，因此必须传进去：\n",
    "    do_task_1(std)\n",
    "    do_task_2(std)\n",
    "\n",
    "def do_task_1(std):\n",
    "    do_subtask_1(std)\n",
    "    do_subtask_2(std)\n",
    "\n",
    "def do_task_2(std):\n",
    "    do_subtask_2(std)\n",
    "    do_subtask_2(std)"
   ]
  },
  {
   "cell_type": "code",
   "execution_count": 17,
   "metadata": {},
   "outputs": [
    {
     "name": "stdout",
     "output_type": "stream",
     "text": [
      "Hello, Alice (in Thread-A)Hello, Bob (in Thread-B)\n",
      "\n"
     ]
    }
   ],
   "source": [
    "\"\"\"每个函数一层一层调用都这么传参数那还得了？用全局变量？也不行，因为每个线程处理不同的Student对象，不能共享。\n",
    "\n",
    "如果用一个全局dict存放所有的Student对象，然后以thread自身作为key获得线程对应的Student对象如何？\"\"\"\n",
    "\n",
    "# ThreadLocal应运而生，不用查找dict，ThreadLocal帮你自动做这件事：\n",
    "import threading\n",
    "\n",
    "# 创建全局ThreadLocal对象:\n",
    "local_school = threading.local()\n",
    "\n",
    "def process_student():\n",
    "    # 获取当前线程关联的student:\n",
    "    std = local_school.student\n",
    "    print('Hello, %s (in %s)' % (std, threading.current_thread().name))\n",
    "\n",
    "def process_thread(name):\n",
    "    # 绑定ThreadLocal的student:\n",
    "    local_school.student = name\n",
    "    process_student()\n",
    "\n",
    "t1 = threading.Thread(target= process_thread, args=('Alice',), name='Thread-A')\n",
    "t2 = threading.Thread(target= process_thread, args=('Bob',), name='Thread-B')\n",
    "t1.start()\n",
    "t2.start()\n",
    "t1.join()\n",
    "t2.join()\n"
   ]
  },
  {
   "cell_type": "markdown",
   "metadata": {},
   "source": [
    "全局变量local_school就是一个ThreadLocal对象，每个Thread对它都可以读写student属性，但互不影响。你可以把local_school看成全局变量，但每个属性如local_school.student都是线程的局部变量，可以任意读写而互不干扰，也不用管理锁的问题，ThreadLocal内部会处理。\n",
    "\n",
    "可以理解为全局变量local_school是一个dict，不但可以用local_school.student，还可以绑定其他变量，如local_school.teacher等等。\n",
    "\n",
    "ThreadLocal最常用的地方就是为每个线程绑定一个数据库连接，HTTP请求，用户身份信息等，这样一个线程的所有调用到的处理函数都可以非常方便地访问这些资源。\n"
   ]
  },
  {
   "cell_type": "code",
   "execution_count": null,
   "metadata": {},
   "outputs": [],
   "source": []
  }
 ],
 "metadata": {
  "kernelspec": {
   "display_name": "Python 3",
   "language": "python",
   "name": "python3"
  },
  "language_info": {
   "codemirror_mode": {
    "name": "ipython",
    "version": 3
   },
   "file_extension": ".py",
   "mimetype": "text/x-python",
   "name": "python",
   "nbconvert_exporter": "python",
   "pygments_lexer": "ipython3",
   "version": "3.6.4"
  }
 },
 "nbformat": 4,
 "nbformat_minor": 2
}
