{
 "cells": [
  {
   "cell_type": "markdown",
   "metadata": {},
   "source": [
    "## 多进程\n",
    "\n",
    "Linux操作系统提供了一个__fork()__系统调用，非常特殊，普通的函数调用，调用一次返回一次，但__fork()__调用一次，返回两次，因为操作系统自动把当前进程（称为父进程）复制了一份（称为子进程）,然后，分别在父进程和子进程内返回。\n",
    "\n",
    "子进程永远返回__0__,而父进程返回子进程的__ID__。这样做的理由是,一个父进程可以__fork__出很多子进程，所以，父进程要记下每个子进程的ID，而子进程需要调用__getppid()__就可以拿到父进程的__ID__"
   ]
  },
  {
   "cell_type": "code",
   "execution_count": 11,
   "metadata": {},
   "outputs": [
    {
     "name": "stdout",
     "output_type": "stream",
     "text": [
      "Process (22370) start...\n",
      "I (22370) just created a child process (22819).\n",
      "I'm child process (22819) and my parent is 22370.\n"
     ]
    }
   ],
   "source": [
    "import os\n",
    "\n",
    "print('Process (%s) start...' % os.getpid())\n",
    "\n",
    "pid = os.fork()\n",
    "if pid ==0:\n",
    "    print(\"I'm child process (%s) and my parent is %s.\" % (os.getpid(), os.getppid()))\n",
    "else:\n",
    "    print(\"I (%s) just created a child process (%s).\" % (os.getpid(), pid))"
   ]
  },
  {
   "cell_type": "markdown",
   "metadata": {},
   "source": [
    "- 有了fork调用，一个进程在接到新任务时就可以复制出一个子进程来处理新任务，常见的Apache服务器就是由父进程监听端口，每当有新的http请求时，就fork出子进程来处理新的http请求。\n",
    "\n",
    "## multiprocessing"
   ]
  },
  {
   "cell_type": "code",
   "execution_count": 10,
   "metadata": {},
   "outputs": [
    {
     "name": "stdout",
     "output_type": "stream",
     "text": [
      "Parent process 22370.\n",
      "Child process will start.\n",
      "Run child process test (22728)...\n",
      "Child process end.\n"
     ]
    }
   ],
   "source": [
    "from multiprocessing import Process\n",
    "import os\n",
    "\n",
    "# 子进程要执行的代码\n",
    "def run_proc(name):\n",
    "    print('Run child process %s (%s)...' % (name, os.getpid()))\n",
    "    \n",
    "if __name__ == '__main__':\n",
    "    print(\"Parent process %s.\" % os.getpid())\n",
    "    p = Process(target=run_proc, args=('test',))\n",
    "    print('Child process will start.')\n",
    "    p.start()\n",
    "    p.join()\n",
    "    print('Child process end.')"
   ]
  },
  {
   "cell_type": "markdown",
   "metadata": {},
   "source": [
    "创建子进程时，只需要传入一个执行函数和函数的参数，创建一个Process实例，用start()方法启动，这样创建进程比fork()还要简单。\n",
    "\n",
    "join()方法可以等待子进程结束后再继续往下运行，通常用于进程间的同步。"
   ]
  },
  {
   "cell_type": "markdown",
   "metadata": {},
   "source": [
    " ### Pool\n",
    " \n",
    "如果要启动大量的子进程， 可以用进程池的方法批量创建子进程："
   ]
  },
  {
   "cell_type": "code",
   "execution_count": 13,
   "metadata": {},
   "outputs": [
    {
     "name": "stdout",
     "output_type": "stream",
     "text": [
      "Parent process 22370.\n",
      "Run task 0 (22872)...\n",
      "Run task 1 (22873)...\n",
      "Run task 2 (22874)...\n",
      "Run task 3 (22875)...\n",
      "Waiting for all subprocesses done...\n",
      "Task 2 runs 1.13 seconds.\n",
      "Run task 4 (22874)...\n",
      "Task 3 runs 1.30 seconds.\n",
      "Task 1 runs 1.92 seconds.\n",
      "Task 0 runs 2.14 seconds.\n",
      "Task 4 runs 2.54 seconds.\n",
      "All subprocesses done.\n"
     ]
    }
   ],
   "source": [
    "from multiprocessing import Pool\n",
    "import os, time, random\n",
    "\n",
    "def long_time_task(name):\n",
    "    print('Run task %s (%s)...' %  (name, os.getpid()))\n",
    "    start = time.time()\n",
    "    time.sleep(random.random() * 3)\n",
    "    end = time.time()\n",
    "    print('Task %s runs %0.2f seconds.' % (name, end - start))\n",
    "    \n",
    "if __name__ == '__main__':\n",
    "    print('Parent process %s.' % os.getpid())\n",
    "    p = Pool(4)\n",
    "    for i in range(5):\n",
    "        p.apply_async(long_time_task, args=(i,))\n",
    "    print('Waiting for all subprocesses done...')\n",
    "    p.close()\n",
    "    p.join()\n",
    "    print('All subprocesses done.')"
   ]
  },
  {
   "cell_type": "markdown",
   "metadata": {},
   "source": [
    "## 子进程\n",
    "\n",
    "很多时候， 子进程并不是自身， 而是一个外部进程， 我们创建了子进程后， 还需要控制子进程的输入和输出。\n",
    "\n",
    "__subprocess__模块可以让我们非常方便地启动一个子进程， 然后控制其输入和输出。\n",
    "\n",
    "下面的例子演示了如何在python代码运行命令nslookup www.python.org, 这和命令直接运行的效果一样："
   ]
  },
  {
   "cell_type": "code",
   "execution_count": 14,
   "metadata": {},
   "outputs": [
    {
     "name": "stdout",
     "output_type": "stream",
     "text": [
      "$ nslookup www.python.org\n",
      "Exit code: 0\n"
     ]
    }
   ],
   "source": [
    "import subprocess\n",
    "\n",
    "print('$ nslookup www.python.org')\n",
    "r = subprocess.call(['nslookup', 'www.python.org'])\n",
    "print('Exit code:', r)"
   ]
  },
  {
   "cell_type": "code",
   "execution_count": 18,
   "metadata": {},
   "outputs": [
    {
     "name": "stdout",
     "output_type": "stream",
     "text": [
      "$ nslookup\n",
      "Server:\t\t8.8.8.8\n",
      "Address:\t8.8.8.8#53\n",
      "\n",
      "Non-authoritative answer:\n",
      "python.org\tmail exchanger = 50 mail.python.org.\n",
      "\n",
      "Authoritative answers can be found from:\n",
      "\n",
      "\n",
      "Exit code: 0\n"
     ]
    }
   ],
   "source": [
    "# 如果子进程还需要输入， 则可以通过communicate()方法输入：\n",
    "import subprocess\n",
    "\n",
    "print('$ nslookup')\n",
    "p = subprocess.Popen(['nslookup'], stdin=subprocess.PIPE, stdout=subprocess.PIPE, stderr=subprocess.PIPE)\n",
    "output, err = p.communicate(b'set q=mx\\npython.org\\nexit\\n')\n",
    "print(output.decode('utf-8'))\n",
    "print('Exit code:', p.returncode)"
   ]
  },
  {
   "cell_type": "markdown",
   "metadata": {},
   "source": [
    "### 进程间通信\n",
    "__process__ 之间肯定要通信的， 操作系统提供了许多机制来实现通信。 python 的__multiprocessing__模块包装了底层的机制，提供了__Queue__,__Pipes__等多种方式来交换数据"
   ]
  },
  {
   "cell_type": "code",
   "execution_count": 20,
   "metadata": {},
   "outputs": [
    {
     "name": "stdout",
     "output_type": "stream",
     "text": [
      "Process to write: 23799\n",
      "Process to read: 23802\n",
      "Put A to queue...\n",
      "Get A from queue.\n",
      "Put B to queue...\n",
      "Get B from queue.\n",
      "Put C to queue...\n",
      "Get C from queue.\n"
     ]
    }
   ],
   "source": [
    "from multiprocessing import Process, Queue\n",
    "\n",
    "# 写入数据执行的代码：\n",
    "def write(q):\n",
    "    print('Process to write: %s' % os.getpid())\n",
    "    for value in ['A', 'B', 'C']:\n",
    "        print('Put %s to queue...' % value)\n",
    "        q.put(value)\n",
    "        time.sleep(random.random())\n",
    "        \n",
    "# 读取数据进程执行的代码：\n",
    "def read(q):\n",
    "    print('Process to read: %s' % os.getpid())\n",
    "    while True:\n",
    "        value = q.get(True)\n",
    "        print('Get %s from queue.' % value)\n",
    "        \n",
    "if __name__ == '__main__':\n",
    "    # 父进程创建Queue，并传给各个子进程\n",
    "    q = Queue()\n",
    "    pw = Process(target=write, args=(q,))\n",
    "    pr = Process(target=read, args=(q,))\n",
    "    # 启动子进程qw， 写入：\n",
    "    pw.start()\n",
    "    # 启动子进程qr, 读取：\n",
    "    pr.start()\n",
    "    # 等待pw 结束\n",
    "    pw.join()\n",
    "    # pr进程里是死循环，无法等待其结束，只能强行终止\n",
    "    pr.terminate()"
   ]
  },
  {
   "cell_type": "markdown",
   "metadata": {},
   "source": [
    "小结\n",
    "\n",
    "在Unix/Linux下，可以使用fork()调用实现多进程。\n",
    "\n",
    "要实现跨平台的多进程，可以使用multiprocessing模块。\n",
    "\n",
    "进程间通信是通过Queue、Pipes等实现的。"
   ]
  },
  {
   "cell_type": "code",
   "execution_count": null,
   "metadata": {},
   "outputs": [],
   "source": []
  }
 ],
 "metadata": {
  "kernelspec": {
   "display_name": "Python 3",
   "language": "python",
   "name": "python3"
  },
  "language_info": {
   "codemirror_mode": {
    "name": "ipython",
    "version": 3
   },
   "file_extension": ".py",
   "mimetype": "text/x-python",
   "name": "python",
   "nbconvert_exporter": "python",
   "pygments_lexer": "ipython3",
   "version": "3.6.4"
  }
 },
 "nbformat": 4,
 "nbformat_minor": 2
}
