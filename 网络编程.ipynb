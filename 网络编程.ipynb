{
 "cells": [
  {
   "cell_type": "markdown",
   "metadata": {},
   "source": [
    "## TCP/IP\n",
    "早期，每个厂商都有一套自己规定的协议， 互不兼容，为了把全世界的所有不同类型的计算机连接起来，就必须规定一套全球通用的协议， 为了实现互联网这个目标， 互联网协议簇(Internet Protocol Suite) 就是通用协议标准。Internet是由inter和net两个单词组成，原意就是链接网络的网络，有了Internet，任何私有网络，只要支持这个协议， 就可以联入互联网。。\n",
    "\n",
    "互联网协议包括了上百种协议标准， 但是最重要的两个协议就是TCP和IP协议， 所以，大家把互联网的协议简称TCP/IP协议\n",
    "\n",
    "通信的时候，双方必须知道对方的标识，好比发邮件必须知道对方的邮件地址。互联网上每个计算机的唯一标识就是IP地址，类似123.123.123.123。如果一台计算机同时接入到两个或更多的网络，比如路由器，它就会有两个或多个IP地址，所以，IP地址对应的实际上是计算机的网络接口，通常是网卡。\n",
    "\n",
    "IP协议负责把数据从一台计算机通过网络发送到另一台计算机。数据被分割成一小块一小块，然后通过IP包发送出去。由于互联网链路复杂，两台计算机之间经常有多条线路，因此，路由器就负责决定如何把一个IP包转发出去。IP包的特点是按块发送，途径多个路由，但不保证能到达，也不保证顺序到达。\n",
    "\n",
    "IP地址实际上是一个32位整数（称为IPv4），以字符串表示的IP地址如192.168.0.1实际上是把32位整数按8位分组后的数字表示，目的是便于阅读。\n",
    "\n",
    "IPv6地址实际上是一个128位整数，它是目前使用的IPv4的升级版，以字符串表示类似于2001:0db8:85a3:0042:1000:8a2e:0370:7334。\n",
    "\n",
    "TCP协议则是建立在IP协议之上的。TCP协议负责在两台计算机之间建立可靠连接，保证数据包按顺序到达。TCP协议会通过握手建立连接，然后，对每个IP包编号，确保对方按顺序收到，如果包丢掉了，就自动重发。\n",
    "\n",
    "许多常用的更高级的协议都是建立在TCP协议基础上的，比如用于浏览器的HTTP协议、发送邮件的SMTP协议等。\n",
    "\n",
    "一个TCP报文除了包含要传输的数据外，还包含源IP地址和目标IP地址，源端口和目标端口。\n",
    "\n",
    "端口有什么作用？在两台计算机通信时，只发IP地址是不够的，因为同一台计算机上跑着多个网络程序。一个TCP报文来了之后，到底是交给浏览器还是QQ，就需要端口号来区分。每个网络程序都向操作系统申请唯一的端口号，这样，两个进程在两台计算机之间建立网络连接就需要各自的IP地址和各自的端口号。\n",
    "\n",
    "一个进程也可能同时与多个计算机建立链接，因此它会申请很多端口。\n",
    "\n",
    "补充：[TCP/IP详解](http://www.52im.net/topic-tcpipvol1.html)"
   ]
  },
  {
   "cell_type": "markdown",
   "metadata": {},
   "source": [
    "## TCP编程\n",
    "Socket是网络编程的一个抽象概念。通常我们用一个Socket表示“打开了一个网络链接”，而打开一个Socket需要知道目标计算机的IP地址和端口号，再指定协议类型即可。\n",
    "\n",
    "### 客户端\n",
    "大多数链接都是可靠的TCP连接,创建TCP连接时， 主动发起链接的叫客户端， 被动响应连接的叫服务器。\n",
    "\n",
    "举个例子，当我们在浏览器中访问新浪时，我们自己的计算机就是客户端，浏览器会主动向新浪的服务器发起连接。如果一切顺利，新浪的服务器接受了我们的连接，一个TCP连接就建立起来的，后面的通信就是发送网页内容了。\n",
    "\n",
    "所以，我们要创建一个基于TCP连接的Socket，可以这样做："
   ]
  },
  {
   "cell_type": "code",
   "execution_count": null,
   "metadata": {},
   "outputs": [],
   "source": [
    "# 导入socket\n",
    "import socket\n",
    "\n",
    "# 创建一个socket\n",
    "s = socket.socket(socket.AF_INET, socket.SOCK_STREAM)\n",
    "# 建立连接：\n",
    "s.connect(('www.sina.com.cn', 80))"
   ]
  },
  {
   "cell_type": "markdown",
   "metadata": {},
   "source": [
    "创建Socket时，AF_INET指定使用IPv4协议，如果要用更先进的IPv6，就指定为AF_INET6。SOCK_STREAM指定使用面向流的TCP协议，这样，一个Socket对象就创建成功，但是还没有建立连接。\n",
    "\n",
    "客户端要主动发起TCP连接，必须知道服务器的IP地址和端口号。新浪网站的IP地址可以用域名www.sina.com.cn自动转换到IP地址，但是怎么知道新浪服务器的端口号呢？\n",
    "\n",
    "答案是作为服务器，提供什么样的服务，端口号就必须固定下来。由于我们想要访问网页，因此新浪提供网页服务的服务器必须把端口号固定在80端口，因为80端口是Web服务的标准端口。其他服务都有对应的标准端口号，例如SMTP服务是25端口，FTP服务是21端口，等等。端口号小于1024的是Internet标准服务的端口，端口号大于1024的，可以任意使用。"
   ]
  },
  {
   "cell_type": "code",
   "execution_count": null,
   "metadata": {},
   "outputs": [],
   "source": [
    "# 发送数据:\n",
    "s.send(b'GET / HTTP/1.1\\r\\nHost: www.sina.com.cn\\r\\nConnection: close\\r\\n\\r\\n')"
   ]
  },
  {
   "cell_type": "code",
   "execution_count": null,
   "metadata": {},
   "outputs": [],
   "source": [
    "# 接受数据\n",
    "buffer = []\n",
    "while True:\n",
    "    # 每次最多接收1K字节：\n",
    "    d = s.recv(1024)\n",
    "    if d:\n",
    "        buffer.append(d)\n",
    "    else:\n",
    "        break\n",
    "data = b''.join(buffer)"
   ]
  },
  {
   "cell_type": "code",
   "execution_count": null,
   "metadata": {},
   "outputs": [],
   "source": [
    "# 接收数据时，调用recv(max)的方法，一次最多接收指定的字节数， 因此， 在一个while循环中反复接收， 直到recv()返回空数据， 表示接收完毕， 退出循环。\n",
    "# 当我们接收完数据后，调用close()方法关闭Socket,这样， 一次完整的网络通信就结束了。。。\n",
    "s.close()\n"
   ]
  },
  {
   "cell_type": "code",
   "execution_count": null,
   "metadata": {},
   "outputs": [],
   "source": [
    "# 接收到的数据包括HTTP头和网页本身，我们只需要把HTTP头和网页分离一下，把HTTP头打印出来，网页内容保存到文件：\n",
    "header, html = data.split(b'\\r\\n\\r\\n', 1)\n",
    "print(header.decode('utf-8'))\n",
    "# 写入文件\n",
    "with open('sina.html', 'wb') as f:\n",
    "    f.write(html)"
   ]
  },
  {
   "cell_type": "markdown",
   "metadata": {},
   "source": [
    "### 服务器\n",
    "\n",
    "和客户端编程相比，服务器编程就要复杂一些。\n",
    "\n",
    "服务器进程首先要绑定一个端口并监听来自其他客户端的连接。如果某个客户端连接过来了，服务器就与该客户端建立Socket连接，随后的通信就靠这个Socket连接了。\n",
    "\n",
    "所以，服务器会打开固定端口（比如80）监听，每来一个客户端连接，就创建该Socket连接。由于服务器会有大量来自客户端的连接，所以，服务器要能够区分一个Socket连接是和哪个客户端绑定的。一个Socket依赖4项：服务器地址、服务器端口、客户端地址、客户端端口来唯一确定一个Socket。\n",
    "\n",
    "但是服务器还需要同时响应多个客户端的请求，所以，每个连接都需要一个新的进程或者新的线程来处理，否则，服务器一次就只能服务一个客户端了。\n",
    "\n",
    "我们来编写一个简单的服务器程序，它接收客户端连接，把客户端发过来的字符串加上Hello再发回去。\n",
    "\n",
    "首先，创建一个基于IPv4和TCP协议的Socket："
   ]
  },
  {
   "cell_type": "code",
   "execution_count": null,
   "metadata": {},
   "outputs": [],
   "source": [
    "s = socket.socket(socket.AF_INET, socket.SOCK_STREAM)"
   ]
  },
  {
   "cell_type": "markdown",
   "metadata": {},
   "source": [
    "然后，我们要绑定监听的地址和端口。服务器可能有多块网卡，可以绑定到某一块网卡的IP地址上，也可以用0.0.0.0绑定到所有的网络地址，还可以用127.0.0.1绑定到本机地址。127.0.0.1是一个特殊的IP地址，表示本机地址，如果绑定到这个地址，客户端必须同时在本机运行才能连接，也就是说，外部的计算机无法连接进来。\n",
    "\n",
    "端口号需要预先指定。因为我们写的这个服务不是标准服务，所以用9999这个端口号。请注意，小于1024的端口号必须要有管理员权限才能绑定："
   ]
  },
  {
   "cell_type": "code",
   "execution_count": null,
   "metadata": {},
   "outputs": [],
   "source": [
    "s.bind(('127.0.0.1', 9999))"
   ]
  },
  {
   "cell_type": "code",
   "execution_count": null,
   "metadata": {},
   "outputs": [],
   "source": [
    "# 紧接着，到用listen()方法开始监听端口， 传入的参数指定等待连接的最大数量：\n",
    "s.listen(5)\n",
    "print('Waiting for connetion...')"
   ]
  },
  {
   "cell_type": "code",
   "execution_count": null,
   "metadata": {},
   "outputs": [],
   "source": [
    "import threading\n",
    "# 接下来，服务器程序通过一个永久循环来接受客户端的链接， accept()会等待并返回一个客户端的链接：\n",
    "while True:\n",
    "    # 接受一个新连接：\n",
    "    sock, addr = s.accept()\n",
    "    # 创建新线程来处理TCP连接：\n",
    "    t = threading.Thread(target=tcplink, args=(sock, addr))\n",
    "    t.start()"
   ]
  },
  {
   "cell_type": "markdown",
   "metadata": {},
   "source": [
    "每个连接都必须创建新的线程（进程）来处理， 否则， 单线程在处理连接的过程中， 无法接受其他客户端的连接：\n"
   ]
  },
  {
   "cell_type": "code",
   "execution_count": null,
   "metadata": {},
   "outputs": [],
   "source": [
    "import time\n",
    "def tcplink(sock, addr):\n",
    "    print('Accept new connection from %s:%s..' %addr)\n",
    "    sock.send(b'Welcome!')\n",
    "    while True:\n",
    "        data = sock.recv(1024)\n",
    "        time.sleep(1)\n",
    "        if not data or data.decode('utf-8') == 'exit':\n",
    "            break\n",
    "        sock.send(('Hello, %s!' % data.decode('utf-8')).encode('utf-8'))\n",
    "    sock.close()\n",
    "    print('Connection from %s:%s closed.' % addr)"
   ]
  },
  {
   "cell_type": "markdown",
   "metadata": {},
   "source": [
    "连接建立后，服务器首先发一条欢迎消息，然后等待客户端数据，并加上Hello再发送给客户端。如果客户端发送了exit字符串，就直接关闭连接。\n",
    "\n",
    "要测试这个服务器程序，我们还需要编写一个客户端程序："
   ]
  },
  {
   "cell_type": "code",
   "execution_count": null,
   "metadata": {},
   "outputs": [],
   "source": [
    "s = socket.socket(socket.AF_INET, socket.SOCK_STREAM)\n",
    "# 建立连接:\n",
    "s.connect(('127.0.0.1', 9999))\n",
    "# 接收欢迎消息:\n",
    "print(s.recv(1024).decode('utf-8'))\n",
    "for data in [b'Michael', b'Tracy', b'Sarah']:\n",
    "    # 发送数据:\n",
    "    s.send(data)\n",
    "    print(s.recv(1024).decode('utf-8'))\n",
    "s.send(b'exit')\n",
    "s.close()"
   ]
  },
  {
   "cell_type": "code",
   "execution_count": null,
   "metadata": {},
   "outputs": [],
   "source": []
  }
 ],
 "metadata": {
  "kernelspec": {
   "display_name": "Python 3",
   "language": "python",
   "name": "python3"
  },
  "language_info": {
   "codemirror_mode": {
    "name": "ipython",
    "version": 3
   },
   "file_extension": ".py",
   "mimetype": "text/x-python",
   "name": "python",
   "nbconvert_exporter": "python",
   "pygments_lexer": "ipython3",
   "version": "3.6.4"
  }
 },
 "nbformat": 4,
 "nbformat_minor": 2
}
